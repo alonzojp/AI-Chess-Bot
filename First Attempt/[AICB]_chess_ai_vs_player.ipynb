{
  "nbformat": 4,
  "nbformat_minor": 0,
  "metadata": {
    "colab": {
      "provenance": [],
      "authorship_tag": "ABX9TyMQa2SQUugE3MKOlkSoW0NF",
      "include_colab_link": true
    },
    "kernelspec": {
      "name": "python3",
      "display_name": "Python 3"
    },
    "language_info": {
      "name": "python"
    }
  },
  "cells": [
    {
      "cell_type": "markdown",
      "metadata": {
        "id": "view-in-github",
        "colab_type": "text"
      },
      "source": [
        "<a href=\"https://colab.research.google.com/github/alonzojp/AI-Chess-Bot/blob/main/%5BAICB%5D_chess_ai_vs_player.ipynb\" target=\"_parent\"><img src=\"https://colab.research.google.com/assets/colab-badge.svg\" alt=\"Open In Colab\"/></a>"
      ]
    },
    {
      "cell_type": "code",
      "execution_count": 1,
      "metadata": {
        "colab": {
          "base_uri": "https://localhost:8080/"
        },
        "id": "XmK8s4adcMgz",
        "outputId": "a5cb84af-e430-44a3-e046-984c32e885e7"
      },
      "outputs": [
        {
          "output_type": "stream",
          "name": "stdout",
          "text": [
            "Requirement already satisfied: chess in /usr/local/lib/python3.10/dist-packages (1.10.0)\n"
          ]
        }
      ],
      "source": [
        "!pip install chess\n",
        "import chess\n",
        "import time\n",
        "import tensorflow as tf\n",
        "from tensorflow import keras\n",
        "import pandas as pd\n",
        "import numpy as np"
      ]
    },
    {
      "cell_type": "code",
      "source": [
        "BE_model = tf.keras.models.load_model('/content/BE_3epochs_64relu.keras')"
      ],
      "metadata": {
        "id": "2rLvC71Dlp5g"
      },
      "execution_count": 2,
      "outputs": []
    },
    {
      "cell_type": "code",
      "source": [
        "piece_to_number_array = ['zero', 'p', 'two', 'b', 'n', 'r', 'six', 'seven', 'q', 'k']\n",
        "\n",
        "def piece_to_number(piece): # lower = black upper = white\n",
        "  if(piece.islower()): # black piece = negative\n",
        "    return -1 * piece_to_number_array.index(piece.lower())\n",
        "  else:\n",
        "    return piece_to_number_array.index(piece.lower())\n",
        "\n",
        "def fen_to_array(fen):\n",
        "  final_array = []\n",
        "\n",
        "  fen_split = fen.split('/')\n",
        "  for row in fen_split:\n",
        "    for column in row:\n",
        "      if(column.isdigit()):\n",
        "        for i in range(0, int(column)):\n",
        "          final_array.append(0)\n",
        "      else:\n",
        "        final_array.append(int(piece_to_number(column)))\n",
        "  return final_array"
      ],
      "metadata": {
        "id": "aFuTOBH7k2Wz"
      },
      "execution_count": 3,
      "outputs": []
    },
    {
      "cell_type": "code",
      "source": [
        "def display_formatted_board():\n",
        "  for i in range(0, 50):\n",
        "    print(\"\")\n",
        "  display(board)\n",
        "\n",
        "def make_ai_move():\n",
        "  # mirrored = chess.Board.mirror(board)\n",
        "  legal_moves = board.legal_moves\n",
        "  print(list(legal_moves))\n",
        "  possible_fens = []\n",
        "  numerical_fen_representations = []\n",
        "\n",
        "  for possible_move in legal_moves:\n",
        "    temp_board = board.copy()\n",
        "    temp_board.push(possible_move)\n",
        "    possible_fens.append(temp_board.board_fen().split(\" \")[0])\n",
        "    # display(temp_board)\n",
        "    # print(temp_board.board_fen().split(\" \")[0])\n",
        "    # print(\"-\" * 50)\n",
        "\n",
        "  for fen in possible_fens:\n",
        "    numerical_fen_representations.append(fen_to_array(fen))\n",
        "\n",
        "  # print(numerical_fen_representations)\n",
        "  move_evaluations = np.array(BE_model.predict(numerical_fen_representations, verbose = 0) * -1) # multiplying by -1 because black is moving, not white\n",
        "  best_move_number = list(move_evaluations).index(min(move_evaluations))\n",
        "  # print(best_move_number)\n",
        "  # print(possible_fens[best_move_number])\n",
        "\n",
        "  best_move = list(legal_moves)[best_move_number]\n",
        "  board.push(best_move)\n",
        "  move_line.append(best_move)\n",
        "  # board = chess.Board.mirror(board)\n",
        "\n",
        "  display_formatted_board()\n",
        "  # display(chess.Board(possible_fens[best_move_number]))"
      ],
      "metadata": {
        "id": "YbDEZ82XfiN5"
      },
      "execution_count": 4,
      "outputs": []
    },
    {
      "cell_type": "code",
      "source": [
        "board = chess.Board()\n",
        "move_line = []\n",
        "\n",
        "display_formatted_board()\n",
        "\n",
        "while(True):\n",
        "\n",
        "  # print(move_line)\n",
        "\n",
        "  # Player's turn:\n",
        "  print(\"Please enter a valid move in chess notation: \")\n",
        "  player_move = input()\n",
        "  try:\n",
        "    move = chess.Move.from_uci(player_move)\n",
        "    if(move not in board.legal_moves):\n",
        "      raise Exception\n",
        "    else:\n",
        "      board.push(move)\n",
        "      move_line.append(move)\n",
        "      display_formatted_board()\n",
        "      time.sleep(1)\n",
        "      if(board.is_checkmate()):\n",
        "        print(\"You won! yippee\")\n",
        "        break\n",
        "    # AI's Turn:\n",
        "    make_ai_move()\n",
        "    # board.push(chess.Move.from_uci(\"a7a6\")) # how to push AI move correctly\n",
        "    # display_formatted_board()\n",
        "\n",
        "    if(board.is_checkmate()):\n",
        "      print(\"You lost! skull emoji moment\")\n",
        "      break\n",
        "  except:\n",
        "    display_formatted_board()\n",
        "    print(\"Invalid move, please try again!\")\n",
        "\n"
      ],
      "metadata": {
        "id": "fEr563w5cOiA"
      },
      "execution_count": null,
      "outputs": []
    },
    {
      "cell_type": "code",
      "source": [
        "board = chess.Board()\n",
        "display(board)\n",
        "board.push_san(\"e4\")\n",
        "display(board) # shows white move\n",
        "board = chess.Board.mirror(board)\n",
        "display(board)\n",
        "\n",
        "\n",
        "board.push_san(\"Nh3\")\n",
        "display(board)\n",
        "\n",
        "board = chess.Board.mirror(board)\n",
        "display(board)\n"
      ],
      "metadata": {
        "id": "Msr_YqonkjuJ"
      },
      "execution_count": null,
      "outputs": []
    }
  ]
}
