{
  "nbformat": 4,
  "nbformat_minor": 0,
  "metadata": {
    "colab": {
      "provenance": [],
      "authorship_tag": "ABX9TyMgtAr0lWjxpwk0nDFS7zzo",
      "include_colab_link": true
    },
    "kernelspec": {
      "name": "python3",
      "display_name": "Python 3"
    },
    "language_info": {
      "name": "python"
    }
  },
  "cells": [
    {
      "cell_type": "markdown",
      "metadata": {
        "id": "view-in-github",
        "colab_type": "text"
      },
      "source": [
        "<a href=\"https://colab.research.google.com/github/alonzojp/AI-Chess-Bot/blob/main/%5BAICB%5D_json_to_csv.ipynb\" target=\"_parent\"><img src=\"https://colab.research.google.com/assets/colab-badge.svg\" alt=\"Open In Colab\"/></a>"
      ]
    },
    {
      "cell_type": "code",
      "source": [
        "import warnings\n",
        "warnings.filterwarnings(\"ignore\")\n",
        "\n",
        "from google.colab import drive\n",
        "drive.mount('/content/drive')\n",
        "file = open('drive/My Drive/lichess_db_eval.json')\n",
        "\n",
        "!pip install ijson\n",
        "!pip install chess\n",
        "\n",
        "import ijson\n",
        "import chess\n",
        "import pandas as pd\n",
        "from IPython.display import clear_output"
      ],
      "metadata": {
        "colab": {
          "base_uri": "https://localhost:8080/"
        },
        "id": "-p5dhANzifyC",
        "outputId": "0f051a27-b786-4c97-d40b-558e96378b74"
      },
      "execution_count": 1,
      "outputs": [
        {
          "output_type": "stream",
          "name": "stdout",
          "text": [
            "Drive already mounted at /content/drive; to attempt to forcibly remount, call drive.mount(\"/content/drive\", force_remount=True).\n",
            "Requirement already satisfied: ijson in /usr/local/lib/python3.10/dist-packages (3.2.3)\n",
            "Requirement already satisfied: chess in /usr/local/lib/python3.10/dist-packages (1.10.0)\n"
          ]
        }
      ]
    },
    {
      "cell_type": "code",
      "source": [
        "# df = pd.DataFrame(columns=['fen_notation', 'evaluation_value'])\n",
        "\n",
        "data = []\n",
        "\n",
        "with open(\"/content/drive/MyDrive/lichess_db_eval.json\", 'r') as fp:\n",
        "\n",
        "  for i in range(0, 21158950):\n",
        "\n",
        "    # print(str(100 * round(i/10000, 2)) + str(\"%\"))\n",
        "    # print(i)\n",
        "    line = fp.readline()\n",
        "\n",
        "    fen_notation = line.split('\"')[3].split(\" \")[0]\n",
        "    evaluation_value = line.split('\"')[10][1:-1]\n",
        "\n",
        "    # temp_df = pd.DataFrame([[fen_notation, evaluation_value]], columns=['fen_notation', 'evaluation_value'])\n",
        "\n",
        "    # df = df.append(temp_df)\n",
        "    data.append([fen_notation, evaluation_value])\n",
        "    # print(line.split('\"')[3].split(\" \")[0]) # Gets FEN board notation\n",
        "    # print(line.split('\"')[10][1:-1]) # Gets evaluation\n",
        "\n",
        "    # board = chess.Board(line.split(' ')[0].split('\"')[3])\n",
        "    # display(board)\n",
        "    # clear_output()\n",
        "\n",
        "len(data)\n",
        "\n",
        "df = pd.DataFrame(data, columns=['fen_notation', 'evaluation_value'])\n",
        "print (df)"
      ],
      "metadata": {
        "colab": {
          "base_uri": "https://localhost:8080/"
        },
        "id": "84fF4RyAXrfT",
        "outputId": "891ce632-114a-44cb-ab4b-183bb3252d6b"
      },
      "execution_count": 2,
      "outputs": [
        {
          "output_type": "stream",
          "name": "stdout",
          "text": [
            "                                               fen_notation evaluation_value\n",
            "0               rnbqkbnr/pppppppp/8/8/8/8/PPPPPPPP/RNBQKBNR               20\n",
            "1         rnbqk1nr/pp2p1bp/3p2p1/2pP1p2/2P5/2N2N2/PP2PPP...               64\n",
            "2               2Rb2k1/3q1rpp/p3Q3/2N1p3/4P3/3Pp3/1P4PP/1K6                0\n",
            "3         rnbqkb1r/ppp1pppp/5n2/3p4/3P1B2/8/PPP1PPPP/RN1...                0\n",
            "4                2b1k3/pr5R/1p2pr2/5p2/2pP4/2P5/PP3PB1/R5K1              994\n",
            "...                                                     ...              ...\n",
            "21158945  rnbqk2r/pp1pppbp/5np1/8/3QN3/5N2/PPP1PPPP/R1B1...              -26\n",
            "21158946  r1b1r1kb/4pp1p/p1n3pB/1pp5/8/P2P3P/qPPQBPPN/1R...               24\n",
            "21158947                       8/8/8/3p2b1/KP4k1/P1P5/8/5q2               -6\n",
            "21158948  1r3kr1/pp2qp2/4pNpb/3pP2p/P1pP3P/2P3P1/6P1/1R1...              171\n",
            "21158949  rnbqkb1r/pp3ppp/2p1p1n1/3pP3/3P3P/P4N2/1PP2PP1...               98\n",
            "\n",
            "[21158950 rows x 2 columns]\n"
          ]
        }
      ]
    },
    {
      "cell_type": "code",
      "source": [
        "df.to_csv('out.csv')"
      ],
      "metadata": {
        "id": "Q2n2QsFnhdEX"
      },
      "execution_count": 3,
      "outputs": []
    },
    {
      "cell_type": "code",
      "source": [
        "# data = ijson.parse(open('/content/drive/MyDrive/lichess_db_eval.json', 'r'))"
      ],
      "metadata": {
        "id": "ArQQpAZnoDeE"
      },
      "execution_count": 4,
      "outputs": []
    },
    {
      "cell_type": "code",
      "source": [
        "# import json\n",
        "\n",
        "# curly_idx = []\n",
        "# jstr = \"\"\n",
        "# first_curly_found = False\n",
        "# counter = 0\n",
        "# with open(\"/content/drive/MyDrive/lichess_db_eval.json\", 'r') as fp:\n",
        "\n",
        "#     #Reading file line by line\n",
        "#     line = fp.readline()\n",
        "#     lnum = 0\n",
        "#     while line:\n",
        "#         counter += 1\n",
        "#         if(counter > 5):\n",
        "#           break\n",
        "\n",
        "#         for a in line:\n",
        "#             if a == '{':\n",
        "#                 curly_idx.append(lnum)\n",
        "#                 first_curly_found = True\n",
        "#             elif a == '}':\n",
        "#                 curly_idx.pop()\n",
        "\n",
        "#         # when the right curly for every left curly is found,\n",
        "#         # it would mean that one complete data element was read\n",
        "#         if len(curly_idx) == 0 and first_curly_found:\n",
        "#             jstr = f'{jstr}{line}'\n",
        "#             jstr = jstr.rstrip()\n",
        "#             jstr = jstr.rstrip(',')\n",
        "#             jstr[:-1]\n",
        "#             if len(jstr) > 10:\n",
        "#                 j = json.loads(jstr)\n",
        "#             print(jstr)\n",
        "#             jstr = \"\"\n",
        "#             line = fp.readline()\n",
        "#             lnum += 1\n",
        "#             continue\n",
        "\n",
        "#         if first_curly_found:\n",
        "#             jstr = f'{jstr}{line}'\n",
        "\n",
        "#         line = fp.readline()\n",
        "#         lnum += 1\n",
        "#         if lnum > 100:\n",
        "#             break\n"
      ],
      "metadata": {
        "id": "yG_8WkqfzFD0"
      },
      "execution_count": 5,
      "outputs": []
    },
    {
      "cell_type": "code",
      "source": [
        "# with open(\"/content/drive/MyDrive/lichess_db_eval.json\", 'r') as fp:\n",
        "#   for i in range(0, 10):\n",
        "#     line = fp.readline()\n",
        "\n",
        "#     print(\"Board #\" + str(i + 1))\n",
        "#     print(line.split('\"')[3].split(\" \")[0]) # Gets FEN board notation\n",
        "#     print(line.split('\"')[10][1:-1]) # Gets evaluation\n",
        "\n",
        "#     board = chess.Board(line.split(' ')[0].split('\"')[3])\n",
        "#     display(board)\n",
        "#     print(\"-----\")"
      ],
      "metadata": {
        "id": "SpwPKuuKTrP3"
      },
      "execution_count": 6,
      "outputs": []
    },
    {
      "cell_type": "code",
      "source": [
        "# objects = ijson.kvitems(data, 'fen.item')\n",
        "# names = (v for k, v in objects if k == 'fen')\n",
        "# for name in names:\n",
        "#     print(name)"
      ],
      "metadata": {
        "id": "kSYGKfD2i3AX"
      },
      "execution_count": 7,
      "outputs": []
    },
    {
      "cell_type": "code",
      "source": [
        "# board = chess.Board('2bq1rk1/pr3ppn/1p2p3/7P/2pP1B1P/2P5/PPQ2PB1/R3R1K1 w - -')\n",
        "# display(board)"
      ],
      "metadata": {
        "id": "E0HuVcyXf6f-"
      },
      "execution_count": 8,
      "outputs": []
    }
  ]
}